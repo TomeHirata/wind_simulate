{
 "cells": [
  {
   "cell_type": "markdown",
   "metadata": {},
   "source": [
    "## 海洋戦略の最適化"
   ]
  },
  {
   "cell_type": "markdown",
   "metadata": {},
   "source": [
    "条件\n",
    "- 36yen/kwh\n",
    "- 風力発電0.5yearたったら点検まで動けない\n",
    "- 発電機は0.2/基/yで発生\n",
    "- 修理は6-18時の状態1~3でのみできる\n",
    "- 1基の点検には36時間かかる\n",
    "- 修理には120時間かかる\n",
    "- 作業船は現地から3時間かかる。\n",
    "- 運行するかには天気予報は使えない（現在の天気のみ）\n",
    "- 作業船は一隻2×10^8円かかり償却費2×10^7円　運転費は10^6円/24hかかる\n",
    "- 事業期間は20year\n",
    "- 発電機は200個\n",
    "- 天気はmarkov_に従う(6hごとの遷移）\n",
    "- 運転費は港ではかからない"
   ]
  },
  {
   "cell_type": "markdown",
   "metadata": {},
   "source": [
    "最適化するもの  \n",
    "`S = Σw*δ　- 2×10^8t - 20×2×10^7t - (10^6/24)×Σc`\n",
    "```\n",
    "w = [0,1900,5000,5000,0]\n",
    "t .. 船の個数\n",
    "c .. 運転時間\n",
    "δ　.. 動けるかどうか\n",
    "```"
   ]
  },
  {
   "cell_type": "code",
   "execution_count": 59,
   "metadata": {},
   "outputs": [],
   "source": [
    "import numpy as np\n",
    "import pandas as pd\n",
    "import matplotlib.pyplot as plt\n",
    "import scipy.linalg"
   ]
  },
  {
   "cell_type": "code",
   "execution_count": 211,
   "metadata": {},
   "outputs": [],
   "source": [
    "# milは(state,time)の二元配列\n",
    "# state [0:正常,1:要点検,2:故障中,3:要点検かつ故障,５：正常かつ点検中]\n",
    "# 各milは[state,点検までの時間,直して欲しい時間]\n",
    "class Windmil():\n",
    "    earnings = np.array([0,1900,5000,5000,0])\n",
    "    def __init__(self):\n",
    "        self.mil = np.zeros(600).reshape(200,3)\n",
    "        self.mil[:,1] = 182*8\n",
    "        self.mil[:,2] = 12\n",
    "    def proceed(self,wind_type):\n",
    "        gain = np.sum(self.mil[:,0] == 0)*Windmil.earnings[wind_type]\n",
    "#         故障と点検までの時間を評価\n",
    "        t = np.random.poisson(0.2/365/8,200)\n",
    "#         故障を処理\n",
    "        for i in range(self.mil.shape[0]):\n",
    "            if t[i]:\n",
    "                if self.mil[i][0] == 0:\n",
    "                    self.mil[i] = np.array([2,self.mil[i][1],40])\n",
    "                elif  self.mil[i][0] == 1:\n",
    "                    self.mil[i] == np.array([3,0,self.mil[i][2]+40])\n",
    "                elif  self.mil[i][0] == 5:\n",
    "                    self.mil[i] == np.array([2,self.mil[i][1],self.mil[i][2]+40])\n",
    "#   点検までの時間を減らす\n",
    "        self.mil[self.mil[:,0] %2 == 0][:,1] -= 1\n",
    "#     要点検に変える\n",
    "        self.mil[np.logical_and(self.mil[:,0] == 0,self.mil[:,1] == 0)] = np.array([1,0,12])\n",
    "        self.mil[np.logical_and(self.mil[:,0] == 2,self.mil[:,1] == 0)] += np.array([1,0,12])\n",
    "#   稼いだ電気料金を返す\n",
    "        return gain\n",
    "# 修理のためのメソッド\n",
    "    def repair(self,ship):\n",
    "        if ship.exist:\n",
    "            self.mil[ship.position][2] -=1\n",
    "            if self.mil[ship.position][2] == 0:\n",
    "                if self.mil[ship.position][0] == 2:\n",
    "                    self.mil[ship.position] = np.array([0,self.mil[ship.position][1],12])\n",
    "                    Ship.windmil_index.remove(ship.position)\n",
    "#     inspectの場合はinspectedに追加\n",
    "                else:\n",
    "                    self.mil[ship.position] = np.array([0,182*8,12])\n",
    "                    Ship.inspected.append(ship.position)\n",
    "                    Ship.windmil_index.remove(ship.position)\n",
    "                ship.position = None\n",
    "        else :\n",
    "            ship.exist = True\n",
    "# 定期点検よう\n",
    "    def get_inspect(self,position,ship):\n",
    "        if self.mil[position][0] == 0:\n",
    "            self.mil[position][0] = 5\n",
    "            ship.position = position\n",
    "            Ship.windmil_index.append(position)"
   ]
  },
  {
   "cell_type": "code",
   "execution_count": 200,
   "metadata": {},
   "outputs": [],
   "source": [
    "class Ship():\n",
    "# 今船が見ている風車\n",
    "    windmil_index = []\n",
    "# 定期点検したもの\n",
    "    inspected = []\n",
    "    def __init__(self,index):\n",
    "        self.position = None\n",
    "        self.exist = False\n",
    "        self.idx = index\n",
    "    def find(self,position):\n",
    "        if self.position == None:\n",
    "            self.position = position\n",
    "            Ship.windmil_index.append(position)\n",
    "            return True\n",
    "        return False"
   ]
  },
  {
   "cell_type": "code",
   "execution_count": 56,
   "metadata": {},
   "outputs": [],
   "source": [
    "markov = pd.read_csv(\"wind_markov.csv\")"
   ]
  },
  {
   "cell_type": "code",
   "execution_count": 57,
   "metadata": {},
   "outputs": [],
   "source": [
    "markov = markov.values[:,1:]"
   ]
  },
  {
   "cell_type": "code",
   "execution_count": 213,
   "metadata": {},
   "outputs": [],
   "source": [
    "def simulate(n_ships = 10,n_iter = 1,span = 120 *8,inspect_number = 200):\n",
    "    gains = np.zeros(n_iter)\n",
    "    costs = np.zeros(n_iter)\n",
    "    for t in range(n_iter):\n",
    "        wind = 2\n",
    "        ships = []\n",
    "        for i in range(n_ships):\n",
    "            ship = Ship(i)\n",
    "            ships.append(ship)\n",
    "        windmil = Windmil()\n",
    "        gain = 0\n",
    "        Ship.windmil_index = []\n",
    "# 初期コストの設定\n",
    "        cost = n_ships * (2*10**8 + 20*2*10**7)\n",
    "        teiki = False\n",
    "# 20年分をloop\n",
    "        for count in range (8*365*20):\n",
    "            w = markov[wind]\n",
    "            p = np.random.rand(1)[0]\n",
    "            for j in range(5):\n",
    "                p -= w[j]\n",
    "                if p <=0:\n",
    "                    wind = j\n",
    "                    break\n",
    "#     風車の状態を変える\n",
    "            gain += windmil.proceed(wind)\n",
    "            if count %8 >= 2 | count%8 <= 5:\n",
    "#     風を判断して船を戻す\n",
    "                if wind >= 4:\n",
    "                    for ship in ships:\n",
    "                        if ship.exist:\n",
    "                            ship.exist = False\n",
    "                            cost += 10**6/8\n",
    "#     windmilをrepair\n",
    "                else:\n",
    "                    for ship in ships:\n",
    "                        if ship.position != None:\n",
    "                            windmil.repair(ship)\n",
    "# 故障したwindmilにshipをmatchさせる\n",
    "                    should_repair = np.where(windmil.mil[:,0] == 2)[0][np.logical_not(np.isin(np.where(windmil.mil[:,0] == 2)[0] ,np.asarray(Ship.windmil_index)))]\n",
    "                    repair_index = 0\n",
    "                    if  should_repair.shape[0]:\n",
    "                        for ship in ships:\n",
    "                            if repair_index == should_repair.shape[0]:\n",
    "                                break\n",
    "                            if ship.find(should_repair[repair_index]):\n",
    "                                repair_index += 1\n",
    "# 定期点検を行う\n",
    "                    if count % (span) == 0:\n",
    "                        teiki = True\n",
    "                        Ship.inspected = []\n",
    "                    if teiki:\n",
    "# まず要点検があったらそっちから\n",
    "# state5もあるけどそれはあとで省かれる\n",
    "                        state_1 = np.where(windmil.mil[:,0] % 2 == 1)\n",
    "                        state1_index = 0\n",
    "                        for ship in ships:\n",
    "                            if not state_1[state1_index] in Ship.windmil_index:\n",
    "                                if ship.find(state_1[state1_index]):\n",
    "                                    state1_index += 1\n",
    "# state1につける\n",
    "                        should_inspected = np.where(windmil.mil[:,0]==0)[0]\n",
    "#   残り時間が少ない順にソート\n",
    "                        inspect_list = np.argsort(windmil.mil[should_inspected][2])\n",
    "                        inspect_index = 0\n",
    "                        for ship in ships:\n",
    "                            if ship.position == None:\n",
    "                                windmil.get_inspect(should_inspected[inspect_list[inspect_index]],ship)\n",
    "                                inspect_index += 1\n",
    "                                if  inspect_index == should_inspected.shape[0]:\n",
    "                                    break\n",
    "                        if len(Ship.inspected) == inspect_number:\n",
    "                            teiki = False\n",
    "# 運転コストを計算\n",
    "                    for ship in ships:\n",
    "                        if ship.exist:\n",
    "                            cost += 10**6/8\n",
    "# 直すwindmilの無いshipを港に戻す\n",
    "                    for ship in ships:\n",
    "                        if ship.position == None:\n",
    "                            ship.exist = False\n",
    "# 夜は船を戻す\n",
    "            else:\n",
    "                for ship in ships:\n",
    "                    if ship.exist:\n",
    "                        ship.exist = False\n",
    "                        cost += 10**6/8\n",
    "        gains[t] = gain\n",
    "        costs[t] = cost\n",
    "    return gains.mean(), costs.mean()"
   ]
  },
  {
   "cell_type": "code",
   "execution_count": 214,
   "metadata": {},
   "outputs": [
    {
     "name": "stdout",
     "output_type": "stream",
     "text": [
      "gain:28535365850\n",
      "cost:17563125000\n",
      "diff:10972240850\n"
     ]
    }
   ],
   "source": [
    "gain,cost = simulate(n_iter = 2)\n",
    "print(\"gain:%d\\ncost:%d\\ndiff:%d\"%(gain,cost,gain-cost))"
   ]
  },
  {
   "cell_type": "code",
   "execution_count": null,
   "metadata": {},
   "outputs": [],
   "source": []
  }
 ],
 "metadata": {
  "kernelspec": {
   "display_name": "Python 3",
   "language": "python",
   "name": "python3"
  },
  "language_info": {
   "codemirror_mode": {
    "name": "ipython",
    "version": 3
   },
   "file_extension": ".py",
   "mimetype": "text/x-python",
   "name": "python",
   "nbconvert_exporter": "python",
   "pygments_lexer": "ipython3",
   "version": "3.5.1"
  }
 },
 "nbformat": 4,
 "nbformat_minor": 2
}
