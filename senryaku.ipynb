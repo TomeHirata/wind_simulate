{
 "cells": [
  {
   "cell_type": "code",
   "execution_count": 2,
   "metadata": {},
   "outputs": [],
   "source": [
    "import numpy as np\n",
    "import pandas as pd\n",
    "# import scikit-learn \n",
    "import matplotlib.pyplot as plt\n",
    "import scipy.linalg"
   ]
  },
  {
   "cell_type": "code",
   "execution_count": 3,
   "metadata": {},
   "outputs": [],
   "source": [
    "data = pd.read_csv(\"fukushima_wind.csv\")"
   ]
  },
  {
   "cell_type": "code",
   "execution_count": 3,
   "metadata": {},
   "outputs": [
    {
     "data": {
      "text/html": [
       "<div>\n",
       "<style scoped>\n",
       "    .dataframe tbody tr th:only-of-type {\n",
       "        vertical-align: middle;\n",
       "    }\n",
       "\n",
       "    .dataframe tbody tr th {\n",
       "        vertical-align: top;\n",
       "    }\n",
       "\n",
       "    .dataframe thead th {\n",
       "        text-align: right;\n",
       "    }\n",
       "</style>\n",
       "<table border=\"1\" class=\"dataframe\">\n",
       "  <thead>\n",
       "    <tr style=\"text-align: right;\">\n",
       "      <th></th>\n",
       "      <th>U10</th>\n",
       "      <th>V10</th>\n",
       "    </tr>\n",
       "  </thead>\n",
       "  <tbody>\n",
       "    <tr>\n",
       "      <th>0</th>\n",
       "      <td>141.750000</td>\n",
       "      <td>141.750000</td>\n",
       "    </tr>\n",
       "    <tr>\n",
       "      <th>1</th>\n",
       "      <td>37.500000</td>\n",
       "      <td>37.500000</td>\n",
       "    </tr>\n",
       "    <tr>\n",
       "      <th>2</th>\n",
       "      <td>7.866323</td>\n",
       "      <td>-3.137803</td>\n",
       "    </tr>\n",
       "    <tr>\n",
       "      <th>3</th>\n",
       "      <td>6.886556</td>\n",
       "      <td>-4.111495</td>\n",
       "    </tr>\n",
       "    <tr>\n",
       "      <th>4</th>\n",
       "      <td>6.312439</td>\n",
       "      <td>-3.972887</td>\n",
       "    </tr>\n",
       "  </tbody>\n",
       "</table>\n",
       "</div>"
      ],
      "text/plain": [
       "          U10         V10\n",
       "0  141.750000  141.750000\n",
       "1   37.500000   37.500000\n",
       "2    7.866323   -3.137803\n",
       "3    6.886556   -4.111495\n",
       "4    6.312439   -3.972887"
      ]
     },
     "execution_count": 3,
     "metadata": {},
     "output_type": "execute_result"
    }
   ],
   "source": [
    "data.head()"
   ]
  },
  {
   "cell_type": "code",
   "execution_count": 4,
   "metadata": {},
   "outputs": [],
   "source": [
    "df = np.array(data)[2:]"
   ]
  },
  {
   "cell_type": "code",
   "execution_count": 5,
   "metadata": {},
   "outputs": [],
   "source": [
    "df_ = np.sqrt(df[:,1]**2+df[:,0]**2)"
   ]
  },
  {
   "cell_type": "code",
   "execution_count": 6,
   "metadata": {},
   "outputs": [
    {
     "data": {
      "text/plain": [
       "array([8.46905258, 8.02053892, 7.45860007, ..., 6.94131682, 8.22693747,\n",
       "       5.26589467])"
      ]
     },
     "execution_count": 6,
     "metadata": {},
     "output_type": "execute_result"
    }
   ],
   "source": [
    "df_"
   ]
  },
  {
   "cell_type": "code",
   "execution_count": 7,
   "metadata": {},
   "outputs": [],
   "source": [
    "df_ = np.where(df_<=2.72,0,df_)\n",
    "df_ = np.where((df_ >= 2.72) & (df_ <= 8.15),1,df_)\n",
    "df_ = np.where((df_ >= 8.15)&(df_ <=10),2,df_)\n",
    "df_ = np.where((df_ >= 10)&(df_ <= 16.98),3,df_)\n",
    "df_ = np.where(df_ >16.98,4,df_)"
   ]
  },
  {
   "cell_type": "code",
   "execution_count": 8,
   "metadata": {},
   "outputs": [
    {
     "data": {
      "text/plain": [
       "array([2, 1, 1, ..., 1, 2, 1])"
      ]
     },
     "execution_count": 8,
     "metadata": {},
     "output_type": "execute_result"
    }
   ],
   "source": [
    "df_.astype(int)"
   ]
  },
  {
   "cell_type": "code",
   "execution_count": 9,
   "metadata": {},
   "outputs": [],
   "source": [
    "markov = np.zeros(25)"
   ]
  },
  {
   "cell_type": "code",
   "execution_count": 10,
   "metadata": {},
   "outputs": [],
   "source": [
    "markov = markov.reshape(5,5)"
   ]
  },
  {
   "cell_type": "code",
   "execution_count": 11,
   "metadata": {},
   "outputs": [
    {
     "data": {
      "text/plain": [
       "array([[0., 0., 0., 0., 0.],\n",
       "       [0., 0., 0., 0., 0.],\n",
       "       [0., 0., 0., 0., 0.],\n",
       "       [0., 0., 0., 0., 0.],\n",
       "       [0., 0., 0., 0., 0.]])"
      ]
     },
     "execution_count": 11,
     "metadata": {},
     "output_type": "execute_result"
    }
   ],
   "source": [
    "markov"
   ]
  },
  {
   "cell_type": "code",
   "execution_count": 12,
   "metadata": {},
   "outputs": [],
   "source": [
    "for i in range(df_.shape[0]-1):\n",
    "    x = int(df_[i])\n",
    "    y = int(df_[i+1])\n",
    "    markov[x][y] += 1"
   ]
  },
  {
   "cell_type": "code",
   "execution_count": 13,
   "metadata": {},
   "outputs": [
    {
     "data": {
      "text/plain": [
       "array([[2.2670e+03, 3.8480e+03, 1.3500e+02, 6.5000e+01, 1.0000e+00],\n",
       "       [3.9440e+03, 2.3534e+04, 2.5690e+03, 1.3930e+03, 1.4000e+01],\n",
       "       [8.0000e+01, 2.8950e+03, 1.8710e+03, 1.5030e+03, 1.4000e+01],\n",
       "       [2.5000e+01, 1.1700e+03, 1.7710e+03, 5.3530e+03, 1.9400e+02],\n",
       "       [0.0000e+00, 8.0000e+00, 1.6000e+01, 1.9900e+02, 8.6000e+01]])"
      ]
     },
     "execution_count": 13,
     "metadata": {},
     "output_type": "execute_result"
    }
   ],
   "source": [
    "markov"
   ]
  },
  {
   "cell_type": "code",
   "execution_count": 14,
   "metadata": {},
   "outputs": [],
   "source": [
    "markov_ = (markov.T/np.sum(markov,axis = 1)).T"
   ]
  },
  {
   "cell_type": "code",
   "execution_count": 15,
   "metadata": {},
   "outputs": [
    {
     "data": {
      "text/plain": [
       "array([ 6316., 31454.,  6363.,  8513.,   309.])"
      ]
     },
     "execution_count": 15,
     "metadata": {},
     "output_type": "execute_result"
    }
   ],
   "source": [
    "np.sum(markov,axis = 1)"
   ]
  },
  {
   "cell_type": "code",
   "execution_count": 16,
   "metadata": {},
   "outputs": [
    {
     "data": {
      "text/plain": [
       "array([[3.58929702e-01, 6.09246358e-01, 2.13742875e-02, 1.02913236e-02,\n",
       "        1.58328056e-04],\n",
       "       [1.25389458e-01, 7.48203726e-01, 8.16748267e-02, 4.42868951e-02,\n",
       "        4.45094424e-04],\n",
       "       [1.25726858e-02, 4.54974069e-01, 2.94043690e-01, 2.36209335e-01,\n",
       "        2.20022002e-03],\n",
       "       [2.93668507e-03, 1.37436861e-01, 2.08034770e-01, 6.28803007e-01,\n",
       "        2.27886761e-02],\n",
       "       [0.00000000e+00, 2.58899676e-02, 5.17799353e-02, 6.44012945e-01,\n",
       "        2.78317152e-01]])"
      ]
     },
     "execution_count": 16,
     "metadata": {},
     "output_type": "execute_result"
    }
   ],
   "source": [
    "markov_"
   ]
  },
  {
   "cell_type": "code",
   "execution_count": 17,
   "metadata": {},
   "outputs": [
    {
     "name": "stderr",
     "output_type": "stream",
     "text": [
      "/Users/hiratatoumu/.pyenv/versions/3.5.1/lib/python3.5/site-packages/matplotlib/figure.py:2267: UserWarning: This figure includes Axes that are not compatible with tight_layout, so results might be incorrect.\n",
      "  warnings.warn(\"This figure includes Axes that are not compatible \"\n"
     ]
    },
    {
     "data": {
      "image/png": "[encoded data removed]",
      "text/plain": [
       "<Figure size 288x288 with 1 Axes>"
      ]
     },
     "metadata": {},
     "output_type": "display_data"
    }
   ],
   "source": [
    "plt.matshow(markov_,cmap = plt.cm.Blues)\n",
    "for i in range(markov_.shape[0]):\n",
    "    for j in range(markov_.shape[1]):\n",
    "        plt.text(x=j, y=i, s=round(markov_[i, j]*1000)/1000, va='center', ha='center')\n",
    "\n",
    "plt.xlabel('次')\n",
    "plt.ylabel('現在')\n",
    "\n",
    "plt.tight_layout()\n",
    "plt.show()"
   ]
  },
  {
   "cell_type": "markdown",
   "metadata": {},
   "source": [
    "## 海洋戦略の最適化"
   ]
  },
  {
   "cell_type": "markdown",
   "metadata": {},
   "source": [
    "条件\n",
    "- 36yen/kwh\n",
    "- 風力発電0.5yearたったら点検まで動けない\n",
    "- 発電機は0.2/基/yで発生\n",
    "- 修理は6-18時の状態1~3でのみできる\n",
    "- 1基の点検には36時間かかる\n",
    "- 修理には120時間かかる\n",
    "- 作業船は現地から3時間かかる。\n",
    "- 運行するかには天気予報は使えない（現在の天気のみ）\n",
    "- 作業船は一隻2×10^8円かかり償却費2×10^7円　運転費は10^6円/24hかかる\n",
    "- 事業期間は20year\n",
    "- 発電機は200個\n",
    "- 天気はmarkov_に従う(6hごとの遷移）\n",
    "- 運転費は港ではかからない"
   ]
  },
  {
   "cell_type": "markdown",
   "metadata": {},
   "source": [
    "最適化するもの  \n",
    "`S = Σw*δ　- 2×10^8t - 20×2×10^7t - (10^6/24)×Σc`\n",
    "```\n",
    "w = [0,1900,5000,5000,0]\n",
    "t .. 船の個数\n",
    "c .. 運転時間\n",
    "δ　.. 動けるかどうか\n",
    "```"
   ]
  },
  {
   "cell_type": "markdown",
   "metadata": {},
   "source": [
    "**使用ツール**\n"
   ]
  },
  {
   "cell_type": "markdown",
   "metadata": {},
   "source": [
    "markov_をなるべく連続に  \n",
    "c のルールを定めて実装＆最適化"
   ]
  },
  {
   "cell_type": "code",
   "execution_count": 18,
   "metadata": {},
   "outputs": [],
   "source": [
    "wind_3 = scipy.linalg.sqrtm(markov_)"
   ]
  },
  {
   "cell_type": "code",
   "execution_count": 25,
   "metadata": {},
   "outputs": [],
   "source": [
    "wind_3_plus = np.where(wind_3<0,0,wind_3)"
   ]
  },
  {
   "cell_type": "code",
   "execution_count": 26,
   "metadata": {},
   "outputs": [],
   "source": [
    "wind_3_plus = (wind_3_plus.T/np.sum(wind_3_plus,axis = 1)).T"
   ]
  },
  {
   "cell_type": "code",
   "execution_count": 27,
   "metadata": {},
   "outputs": [
    {
     "data": {
      "text/plain": [
       "array([1., 1., 1., 1., 1.])"
      ]
     },
     "execution_count": 27,
     "metadata": {},
     "output_type": "execute_result"
    }
   ],
   "source": [
    "np.sum(wind_3_plus,axis = 1)"
   ]
  },
  {
   "cell_type": "code",
   "execution_count": 28,
   "metadata": {},
   "outputs": [],
   "source": [
    " wind_3_csv = pd.DataFrame(wind_3_plus)"
   ]
  },
  {
   "cell_type": "code",
   "execution_count": 29,
   "metadata": {},
   "outputs": [],
   "source": [
    "wind_3_csv.to_csv(\"wind_markov.csv\")"
   ]
  },
  {
   "cell_type": "code",
   "execution_count": null,
   "metadata": {},
   "outputs": [],
   "source": []
  }
 ],
 "metadata": {
  "kernelspec": {
   "display_name": "Python 3",
   "language": "python",
   "name": "python3"
  },
  "language_info": {
   "codemirror_mode": {
    "name": "ipython",
    "version": 3
   },
   "file_extension": ".py",
   "mimetype": "text/x-python",
   "name": "python",
   "nbconvert_exporter": "python",
   "pygments_lexer": "ipython3",
   "version": "3.5.1"
  }
 },
 "nbformat": 4,
 "nbformat_minor": 2
}
