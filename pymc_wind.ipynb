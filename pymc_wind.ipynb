{
 "cells": [
  {
   "cell_type": "code",
   "execution_count": 3,
   "metadata": {},
   "outputs": [],
   "source": [
    "import matplotlib.pyplot as plt \n",
    "import numpy as np\n",
    "import pymc3 as pm\n",
    "import time\n",
    "from pymc3.backends.base import merge_traces\n",
    "import pandas as pd"
   ]
  },
  {
   "cell_type": "code",
   "execution_count": 4,
   "metadata": {},
   "outputs": [],
   "source": [
    "data = pd.read_csv(\"fukushima_wind.csv\")"
   ]
  },
  {
   "cell_type": "code",
   "execution_count": 5,
   "metadata": {},
   "outputs": [],
   "source": [
    "data = np.array(data[2:])"
   ]
  },
  {
   "cell_type": "code",
   "execution_count": 6,
   "metadata": {},
   "outputs": [],
   "source": [
    "wind = np.sqrt(data[:,1]**2+data[:,0]**2)"
   ]
  },
  {
   "cell_type": "code",
   "execution_count": 7,
   "metadata": {},
   "outputs": [],
   "source": [
    "wind = wind[:100]"
   ]
  },
  {
   "cell_type": "code",
   "execution_count": 8,
   "metadata": {},
   "outputs": [
    {
     "data": {
      "text/plain": [
       "array([ 8.46905258,  8.02053892,  7.45860007,  7.24168379,  8.24440314,\n",
       "       11.00176593, 11.39765441,  9.62089363,  6.8313465 ,  3.3204711 ,\n",
       "        1.85477746,  2.79294309,  7.44356625,  6.14624871,  3.80798259,\n",
       "        1.56191681,  5.29463734,  3.48873282, 10.56783782, 11.14276194,\n",
       "        9.09908275,  5.43776113,  3.27411258,  5.95872276,  8.4340086 ,\n",
       "        6.72914047,  4.65397582,  5.53800453,  3.42971013,  4.27080976,\n",
       "        5.67673016,  3.68930721,  5.47529938,  5.48283167,  5.27254184,\n",
       "        2.73363036,  4.39548534,  6.89572087,  8.9863889 , 13.25435309,\n",
       "       11.70184708, 10.42581676, 10.56613832, 11.58370468,  9.88387413,\n",
       "        8.31082057,  7.23237197,  9.34678903, 10.38740378,  8.85716183,\n",
       "        7.58750187, 12.29945882, 12.35042243,  9.45831271,  6.55322629,\n",
       "        5.72405694,  8.15339857,  7.99030996,  6.53245675, 10.06942055,\n",
       "       11.59331583, 12.97455676, 11.1983805 ,  8.33964503,  5.1461332 ,\n",
       "        5.96633   ,  6.98978486,  3.49858526,  6.36981472, 10.77380067,\n",
       "       15.3890684 , 15.58848907, 15.38318966, 13.87434272, 13.95798758,\n",
       "        9.69872499,  8.07334604,  7.26468175,  7.71231682,  3.8968355 ,\n",
       "        7.34375936, 14.65295736, 16.18080337, 13.73896025, 12.4032752 ,\n",
       "        8.1877301 ,  7.33450687, 10.66020157,  7.35755346,  7.68766128,\n",
       "        4.85649921,  4.85021005,  6.38871015, 10.23912987, 10.55936141,\n",
       "        6.69916051,  3.40578459,  5.20083121,  2.4540335 ,  4.66768512])"
      ]
     },
     "execution_count": 8,
     "metadata": {},
     "output_type": "execute_result"
    }
   ],
   "source": [
    "wind"
   ]
  },
  {
   "cell_type": "code",
   "execution_count": 10,
   "metadata": {},
   "outputs": [
    {
     "name": "stderr",
     "output_type": "stream",
     "text": [
      "logp = 617.03, ||grad|| = 2,534.9: 100%|██████████| 3944/3944 [00:11<00:00, 331.92it/s]   \n"
     ]
    }
   ],
   "source": [
    "N = 100\n",
    "T = 100\n",
    " \n",
    "with pm.Model() as model:\n",
    "    alpha = pm.Uniform(name='alpha',lower=0)\n",
    "    mu = [0]*N\n",
    "    mu[0] = wind[0]\n",
    "    for n in range(1, N):\n",
    "        mu[n] = pm.Normal(name='mu'+str(n), mu=mu[n-1], sd=alpha)\n",
    "    \n",
    "    beta = pm.Uniform(name='beta', lower = 0)\n",
    "    y_pre = pm.Normal('y_pre', mu=mu, sd = beta, observed=wind)\n",
    "    \n",
    "    start = pm.find_MAP()\n",
    "    step = pm.NUTS()"
   ]
  },
  {
   "cell_type": "code",
   "execution_count": 11,
   "metadata": {},
   "outputs": [
    {
     "name": "stderr",
     "output_type": "stream",
     "text": [
      "Only 100 samples in chain.\n",
      "Multiprocess sampling (3 chains in 3 jobs)\n",
      "NUTS: [beta, mu99, mu98, mu97, mu96, mu95, mu94, mu93, mu92, mu91, mu90, mu89, mu88, mu87, mu86, mu85, mu84, mu83, mu82, mu81, mu80, mu79, mu78, mu77, mu76, mu75, mu74, mu73, mu72, mu71, mu70, mu69, mu68, mu67, mu66, mu65, mu64, mu63, mu62, mu61, mu60, mu59, mu58, mu57, mu56, mu55, mu54, mu53, mu52, mu51, mu50, mu49, mu48, mu47, mu46, mu45, mu44, mu43, mu42, mu41, mu40, mu39, mu38, mu37, mu36, mu35, mu34, mu33, mu32, mu31, mu30, mu29, mu28, mu27, mu26, mu25, mu24, mu23, mu22, mu21, mu20, mu19, mu18, mu17, mu16, mu15, mu14, mu13, mu12, mu11, mu10, mu9, mu8, mu7, mu6, mu5, mu4, mu3, mu2, mu1, alpha]\n",
      "Sampling 3 chains: 100%|██████████| 1800/1800 [03:50<00:00,  2.86draws/s]\n",
      "The acceptance probability does not match the target. It is 0.9654921014596249, but should be close to 0.8. Try to increase the number of tuning steps.\n",
      "The chain reached the maximum tree depth. Increase max_treedepth, increase target_accept or reparameterize.\n",
      "The acceptance probability does not match the target. It is 0.5870661737720045, but should be close to 0.8. Try to increase the number of tuning steps.\n",
      "The gelman-rubin statistic is larger than 1.4 for some parameters. The sampler did not converge.\n",
      "The number of effective samples is smaller than 10% for some parameters.\n"
     ]
    }
   ],
   "source": [
    "with model :\n",
    "    trace = pm.sample(T , step ,start = start,njobs = 3,random_seed = range(3),progress_bar = False)\n",
    "#     print('Rhat= '+str(pm.gelman_rubin(trace)) )\n",
    "#     pm.traceplot(trace,model.vars)"
   ]
  },
  {
   "cell_type": "code",
   "execution_count": 33,
   "metadata": {},
   "outputs": [
    {
     "ename": "KeyError",
     "evalue": "'Unknown variable y_pre'",
     "output_type": "error",
     "traceback": [
      "\u001b[0;31m---------------------------------------------------------------------------\u001b[0m",
      "\u001b[0;31mKeyError\u001b[0m                                  Traceback (most recent call last)",
      "\u001b[0;32m<ipython-input-33-479327674ec5>\u001b[0m in \u001b[0;36m<module>\u001b[0;34m()\u001b[0m\n\u001b[1;32m      1\u001b[0m \u001b[0mplt\u001b[0m\u001b[0;34m.\u001b[0m\u001b[0mplot\u001b[0m\u001b[0;34m(\u001b[0m\u001b[0mnp\u001b[0m\u001b[0;34m.\u001b[0m\u001b[0mlinspace\u001b[0m\u001b[0;34m(\u001b[0m\u001b[0;36m0\u001b[0m\u001b[0;34m,\u001b[0m\u001b[0;36m99\u001b[0m\u001b[0;34m,\u001b[0m\u001b[0;36m100\u001b[0m\u001b[0;34m)\u001b[0m\u001b[0;34m,\u001b[0m\u001b[0mwind\u001b[0m\u001b[0;34m,\u001b[0m\u001b[0mcolor\u001b[0m\u001b[0;34m=\u001b[0m\u001b[0;34m'red'\u001b[0m\u001b[0;34m)\u001b[0m\u001b[0;34m\u001b[0m\u001b[0m\n\u001b[0;32m----> 2\u001b[0;31m \u001b[0mplt\u001b[0m\u001b[0;34m.\u001b[0m\u001b[0mplot\u001b[0m\u001b[0;34m(\u001b[0m\u001b[0mnp\u001b[0m\u001b[0;34m.\u001b[0m\u001b[0mlinspace\u001b[0m\u001b[0;34m(\u001b[0m\u001b[0;36m0\u001b[0m\u001b[0;34m,\u001b[0m\u001b[0;36m99\u001b[0m\u001b[0;34m,\u001b[0m\u001b[0;36m100\u001b[0m\u001b[0;34m)\u001b[0m\u001b[0;34m,\u001b[0m\u001b[0mtrace\u001b[0m\u001b[0;34m[\u001b[0m\u001b[0;34m\"y_pre\"\u001b[0m\u001b[0;34m]\u001b[0m\u001b[0;34m)\u001b[0m\u001b[0;34m\u001b[0m\u001b[0m\n\u001b[0m\u001b[1;32m      3\u001b[0m \u001b[0mplt\u001b[0m\u001b[0;34m.\u001b[0m\u001b[0mshow\u001b[0m\u001b[0;34m(\u001b[0m\u001b[0;34m)\u001b[0m\u001b[0;34m\u001b[0m\u001b[0m\n",
      "\u001b[0;32m~/.pyenv/versions/3.5.1/lib/python3.5/site-packages/pymc3/backends/base.py\u001b[0m in \u001b[0;36m__getitem__\u001b[0;34m(self, idx)\u001b[0m\n\u001b[1;32m    317\u001b[0m         \u001b[0;32mif\u001b[0m \u001b[0mvar\u001b[0m \u001b[0;32min\u001b[0m \u001b[0mself\u001b[0m\u001b[0;34m.\u001b[0m\u001b[0mstat_names\u001b[0m\u001b[0;34m:\u001b[0m\u001b[0;34m\u001b[0m\u001b[0m\n\u001b[1;32m    318\u001b[0m             \u001b[0;32mreturn\u001b[0m \u001b[0mself\u001b[0m\u001b[0;34m.\u001b[0m\u001b[0mget_sampler_stats\u001b[0m\u001b[0;34m(\u001b[0m\u001b[0mvar\u001b[0m\u001b[0;34m,\u001b[0m \u001b[0mburn\u001b[0m\u001b[0;34m=\u001b[0m\u001b[0mburn\u001b[0m\u001b[0;34m,\u001b[0m \u001b[0mthin\u001b[0m\u001b[0;34m=\u001b[0m\u001b[0mthin\u001b[0m\u001b[0;34m)\u001b[0m\u001b[0;34m\u001b[0m\u001b[0m\n\u001b[0;32m--> 319\u001b[0;31m         \u001b[0;32mraise\u001b[0m \u001b[0mKeyError\u001b[0m\u001b[0;34m(\u001b[0m\u001b[0;34m\"Unknown variable %s\"\u001b[0m \u001b[0;34m%\u001b[0m \u001b[0mvar\u001b[0m\u001b[0;34m)\u001b[0m\u001b[0;34m\u001b[0m\u001b[0m\n\u001b[0m\u001b[1;32m    320\u001b[0m \u001b[0;34m\u001b[0m\u001b[0m\n\u001b[1;32m    321\u001b[0m     _attrs = set(['_straces', 'varnames', 'chains', 'stat_names',\n",
      "\u001b[0;31mKeyError\u001b[0m: 'Unknown variable y_pre'"
     ]
    },
    {
     "data": {
      "image/png": "[encoded data removed]",
      "text/plain": [
       "<Figure size 432x288 with 1 Axes>"
      ]
     },
     "metadata": {},
     "output_type": "display_data"
    }
   ],
   "source": [
    "plt.plot(np.linspace(0,99,100),wind,color='red')\n",
    "plt.plot(np.linspace(0,99,100),trace[\"y_pre\"])\n",
    "plt.show()"
   ]
  },
  {
   "cell_type": "code",
   "execution_count": 27,
   "metadata": {},
   "outputs": [],
   "source": [
    "mu = np.array([trace['mu'+str(i)] for i in range(1,100)])"
   ]
  },
  {
   "cell_type": "code",
   "execution_count": 34,
   "metadata": {},
   "outputs": [
    {
     "data": {
      "text/plain": [
       "array([3.22023786e-06, 3.44642184e-06, 3.72296671e-06, 3.16968417e-06,\n",
       "       2.96436331e-06, 2.75575471e-06, 3.10463577e-06, 3.12400627e-06,\n",
       "       2.96305243e-06, 3.05244866e-06, 2.75350900e-06, 2.79533797e-06,\n",
       "       2.95958392e-06, 3.70900328e-06, 3.33338564e-06, 3.75901654e-06,\n",
       "       4.01642406e-06, 3.64319049e-06, 3.69046899e-06, 3.60052947e-06,\n",
       "       3.26831406e-06, 3.62162130e-06, 3.43343055e-06, 3.98940510e-06,\n",
       "       3.49710533e-06, 3.79090860e-06, 4.35964872e-06, 5.61450443e-06,\n",
       "       5.10783550e-06, 4.80263171e-06, 4.54474648e-06, 5.12103837e-06,\n",
       "       6.33216782e-06, 5.07155370e-06, 4.47832071e-06, 3.85185665e-06,\n",
       "       4.00298494e-06, 4.37684103e-06, 5.62326743e-06, 4.57842574e-06,\n",
       "       4.56224523e-06, 4.54395257e-06, 4.18215917e-06, 5.41790029e-06,\n",
       "       4.94797599e-06, 5.04488383e-06, 5.53557130e-06, 4.86280215e-06,\n",
       "       6.13924115e-06, 6.76848243e-06, 7.04434418e-06, 6.34930160e-06,\n",
       "       7.10983947e-06, 8.06785690e-06, 7.16131107e-06, 9.13098972e-06,\n",
       "       7.60760352e-06, 8.90332392e-06, 8.03878914e-06, 7.57059621e-06,\n",
       "       6.90984615e-06, 6.98320602e-06, 8.98694420e-06, 7.33509990e-06,\n",
       "       8.16740884e-06, 8.07378074e-06, 7.86473046e-06, 6.98467378e-06,\n",
       "       7.11697747e-06, 7.99380893e-06, 7.21501674e-06, 9.16576583e-06,\n",
       "       8.90534845e-06, 1.06761374e-05, 8.38654336e-06, 7.66317661e-06,\n",
       "       7.24367916e-06, 7.89590716e-06, 6.22142745e-06, 7.05297136e-06,\n",
       "       6.98725888e-06, 8.36388478e-06, 8.22893426e-06, 9.22145454e-06,\n",
       "       8.59000225e-06, 9.73402126e-06, 9.48251648e-06, 8.18722196e-06,\n",
       "       7.29739524e-06, 9.11023437e-06, 7.76239050e-06, 7.52657928e-06,\n",
       "       7.36283381e-06, 6.36232887e-06, 6.86910855e-06, 5.21271171e-06,\n",
       "       4.85343772e-06, 3.97877874e-06, 3.33798652e-06, 3.01322527e-06,\n",
       "       8.70145131e-07, 1.03787464e-06, 1.05551618e-06, 1.23909598e-06,\n",
       "       1.40274747e-06, 1.49731418e-06, 1.38259426e-06, 1.31625561e-06,\n",
       "       1.52243723e-06, 1.73062234e-06, 1.64156412e-06, 1.82853291e-06,\n",
       "       1.81113947e-06, 1.85894167e-06, 2.03435206e-06, 2.00976566e-06,\n",
       "       2.37442712e-06, 2.32302002e-06, 2.42679415e-06, 3.05627206e-06,\n",
       "       2.52354110e-06, 2.74631863e-06, 3.08429397e-06, 4.22650152e-06,\n",
       "       3.70944349e-06, 3.75182561e-06, 3.27918433e-06, 3.94237939e-06,\n",
       "       4.14268736e-06, 4.11898697e-06, 3.09158321e-06, 3.86062341e-06,\n",
       "       3.96635088e-06, 3.14377259e-06, 3.97786673e-06, 4.69484682e-06,\n",
       "       4.23924850e-06, 4.50523064e-06, 4.59713878e-06, 4.17156654e-06,\n",
       "       5.14090664e-06, 5.73609619e-06, 4.82759840e-06, 7.05399867e-06,\n",
       "       6.67435002e-06, 6.45666372e-06, 6.40617143e-06, 7.41192430e-06,\n",
       "       7.12834204e-06, 7.26466075e-06, 7.83298474e-06, 7.92907982e-06,\n",
       "       7.88605628e-06, 8.86805380e-06, 7.18335101e-06, 6.90514367e-06,\n",
       "       7.64693843e-06, 8.79841311e-06, 8.62261989e-06, 8.97156967e-06,\n",
       "       1.01071045e-05, 9.93346546e-06, 1.12223489e-05, 9.09185526e-06,\n",
       "       9.19840416e-06, 9.82404636e-06, 9.75768474e-06, 8.66149820e-06,\n",
       "       7.53114771e-06, 7.85897120e-06, 7.37946825e-06, 8.53791549e-06,\n",
       "       7.68621960e-06, 9.01988635e-06, 7.80092011e-06, 8.26310797e-06,\n",
       "       7.57536940e-06, 6.80705804e-06, 6.98096367e-06, 8.30347861e-06,\n",
       "       9.99277874e-06, 9.00412741e-06, 9.55955386e-06, 8.57212786e-06,\n",
       "       6.97850069e-06, 6.51270769e-06, 5.87085028e-06, 4.95458845e-06,\n",
       "       5.02885960e-06, 3.97904412e-06, 4.55254337e-06, 4.31433719e-06,\n",
       "       4.18377229e-06, 4.42575435e-06, 4.32231860e-06, 4.57808133e-06,\n",
       "       3.45184086e-06, 2.98574901e-06, 3.56713349e-06, 3.98529649e-06,\n",
       "       7.40047433e-07, 8.10339466e-07, 8.04763011e-07, 7.35053279e-07,\n",
       "       7.70613898e-07, 6.45518212e-07, 6.90691211e-07, 6.13093160e-07,\n",
       "       5.49900026e-07, 5.82527793e-07, 5.27266454e-07, 5.68142200e-07,\n",
       "       5.97865585e-07, 6.33385212e-07, 5.74053356e-07, 7.21069478e-07,\n",
       "       5.66822096e-07, 5.46170799e-07, 6.63768481e-07, 7.76465630e-07,\n",
       "       7.04787101e-07, 8.68862907e-07, 8.68877222e-07, 8.05750942e-07,\n",
       "       7.02261958e-07, 5.72040765e-07, 5.82558776e-07, 5.29131972e-07,\n",
       "       5.84176727e-07, 4.31887265e-07, 4.05658564e-07, 4.32575994e-07,\n",
       "       4.88960327e-07, 4.05361928e-07, 4.01149712e-07, 4.30573228e-07,\n",
       "       4.15725214e-07, 6.05753984e-07, 6.68030781e-07, 6.32259513e-07,\n",
       "       6.02253458e-07, 5.77739256e-07, 6.32881227e-07, 7.47535843e-07,\n",
       "       6.96515151e-07, 6.29252192e-07, 6.30812344e-07, 6.79396150e-07,\n",
       "       4.47063092e-07, 4.70559590e-07, 4.51304258e-07, 4.03108018e-07,\n",
       "       4.67014837e-07, 3.40454239e-07, 3.91475181e-07, 4.07121465e-07,\n",
       "       4.24536388e-07, 4.64454765e-07, 3.49820140e-07, 3.99061683e-07,\n",
       "       3.79272817e-07, 3.79272817e-07, 3.62905789e-07, 4.50311441e-07,\n",
       "       3.60692702e-07, 3.74756566e-07, 4.25800254e-07, 4.70248100e-07,\n",
       "       4.41232599e-07, 5.18865619e-07, 4.34742070e-07, 4.82727435e-07,\n",
       "       5.52362307e-07, 5.09597552e-07, 6.04317020e-07, 5.66569608e-07,\n",
       "       5.33648699e-07, 6.19884280e-07, 7.69634507e-07, 7.88443288e-07,\n",
       "       7.60084224e-07, 7.10970099e-07, 8.09678121e-07, 8.60308283e-07,\n",
       "       9.25730265e-07, 9.79805911e-07, 1.35188254e-06, 1.15969902e-06,\n",
       "       9.60437029e-07, 1.11123522e-06, 1.14585958e-06, 1.07986481e-06,\n",
       "       1.13566329e-06, 1.24338204e-06, 9.12936129e-07, 1.01453041e-06,\n",
       "       9.65933881e-07, 9.55261425e-07, 9.52099745e-07, 1.03754938e-06])"
      ]
     },
     "execution_count": 34,
     "metadata": {},
     "output_type": "execute_result"
    }
   ],
   "source": [
    "trace['alpha']"
   ]
  },
  {
   "cell_type": "code",
   "execution_count": 40,
   "metadata": {},
   "outputs": [],
   "source": [
    "a = np.array([[2,1],[1,2]]).astype('int32')"
   ]
  },
  {
   "cell_type": "code",
   "execution_count": 46,
   "metadata": {},
   "outputs": [],
   "source": [
    "b = np.linalg.inv(a)"
   ]
  },
  {
   "cell_type": "code",
   "execution_count": 47,
   "metadata": {},
   "outputs": [
    {
     "data": {
      "text/plain": [
       "array([[ 0.66666667, -0.33333333],\n",
       "       [-0.33333333,  0.66666667]])"
      ]
     },
     "execution_count": 47,
     "metadata": {},
     "output_type": "execute_result"
    }
   ],
   "source": [
    "b"
   ]
  },
  {
   "cell_type": "code",
   "execution_count": null,
   "metadata": {},
   "outputs": [],
   "source": []
  }
 ],
 "metadata": {
  "kernelspec": {
   "display_name": "Python 3",
   "language": "python",
   "name": "python3"
  },
  "language_info": {
   "codemirror_mode": {
    "name": "ipython",
    "version": 3
   },
   "file_extension": ".py",
   "mimetype": "text/x-python",
   "name": "python",
   "nbconvert_exporter": "python",
   "pygments_lexer": "ipython3",
   "version": "3.5.1"
  }
 },
 "nbformat": 4,
 "nbformat_minor": 2
}
